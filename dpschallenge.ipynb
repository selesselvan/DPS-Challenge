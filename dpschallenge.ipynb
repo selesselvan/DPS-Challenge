{
 "cells": [
  {
   "cell_type": "markdown",
   "id": "66008e69",
   "metadata": {},
   "source": [
    "# Data loading"
   ]
  },
  {
   "cell_type": "code",
   "execution_count": 9,
   "id": "e327eaf4",
   "metadata": {},
   "outputs": [
    {
     "name": "stdout",
     "output_type": "stream",
     "text": [
      "/Users/selesselvan/Documents/DPS\n"
     ]
    }
   ],
   "source": [
    "import pandas as pd\n",
    "import numpy as np\n",
    "import os\n",
    "working_directory = os.getcwd()\n",
    "print(working_directory)"
   ]
  },
  {
   "cell_type": "code",
   "execution_count": 4,
   "id": "0e5f0e3e",
   "metadata": {},
   "outputs": [],
   "source": [
    "import chardet\n",
    "def get_file_encoding(file_name):\n",
    "    with open(file=file_name, mode='rb') as inp:\n",
    "        encoding= chardet.detect(inp.read(10000))['encoding']\n",
    "    return encoding"
   ]
  },
  {
   "cell_type": "code",
   "execution_count": 5,
   "id": "0e4e71ca",
   "metadata": {},
   "outputs": [
    {
     "data": {
      "text/plain": [
       "'utf-8'"
      ]
     },
     "execution_count": 5,
     "metadata": {},
     "output_type": "execute_result"
    }
   ],
   "source": [
    "file_path = './220511_monatszahlenmonatszahlen2204_verkehrsunfaelle.csv'"
   ]
  },
  {
   "cell_type": "code",
   "execution_count": 7,
   "id": "fa08ea0e",
   "metadata": {},
   "outputs": [],
   "source": [
    "df = pd.read_csv(file_path, sep=',', encoding=get_file_encoding(file_path))"
   ]
  },
  {
   "cell_type": "code",
   "execution_count": 8,
   "id": "d9c451d6",
   "metadata": {},
   "outputs": [
    {
     "data": {
      "text/plain": [
       "(2086, 9)"
      ]
     },
     "execution_count": 8,
     "metadata": {},
     "output_type": "execute_result"
    }
   ],
   "source": [
    "df.shape"
   ]
  },
  {
   "cell_type": "markdown",
   "id": "62c57eea",
   "metadata": {},
   "source": [
    "# EDA"
   ]
  },
  {
   "cell_type": "markdown",
   "id": "b02cd4b4",
   "metadata": {},
   "source": [
    "# Data Pre-Processing"
   ]
  },
  {
   "cell_type": "markdown",
   "id": "2f9640b7",
   "metadata": {},
   "source": [
    "# Statistical Testing"
   ]
  },
  {
   "cell_type": "markdown",
   "id": "1804d10b",
   "metadata": {},
   "source": [
    "# Statistical Modeling"
   ]
  },
  {
   "cell_type": "markdown",
   "id": "b507af25",
   "metadata": {},
   "source": [
    "# Machine Learning Model for prediction"
   ]
  },
  {
   "cell_type": "markdown",
   "id": "a585c403",
   "metadata": {},
   "source": [
    "# Generalization Error with Ground Truth Data"
   ]
  }
 ],
 "metadata": {
  "kernelspec": {
   "display_name": "Python 3 (ipykernel)",
   "language": "python",
   "name": "python3"
  },
  "language_info": {
   "codemirror_mode": {
    "name": "ipython",
    "version": 3
   },
   "file_extension": ".py",
   "mimetype": "text/x-python",
   "name": "python",
   "nbconvert_exporter": "python",
   "pygments_lexer": "ipython3",
   "version": "3.9.12"
  }
 },
 "nbformat": 4,
 "nbformat_minor": 5
}
